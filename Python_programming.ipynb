{
  "nbformat": 4,
  "nbformat_minor": 0,
  "metadata": {
    "colab": {
      "provenance": []
    },
    "kernelspec": {
      "name": "python3",
      "display_name": "Python 3"
    },
    "language_info": {
      "name": "python"
    }
  },
  "cells": [
    {
      "cell_type": "code",
      "execution_count": 4,
      "metadata": {
        "colab": {
          "base_uri": "https://localhost:8080/"
        },
        "id": "EK2GDpoGWU33",
        "outputId": "8c01e93c-5b35-4be3-eaa2-92b13b30f9f7"
      },
      "outputs": [
        {
          "output_type": "stream",
          "name": "stdout",
          "text": [
            "8\n"
          ]
        }
      ],
      "source": [
        "def sum_multiples(n):\n",
        "  if n<0:\n",
        "    return 0\n",
        "  return sum(x for x in range(n) if x%3 == 0 or x%5 == 0)\n",
        "print(sum_multiples(6))\n"
      ]
    },
    {
      "cell_type": "code",
      "source": [
        "import re\n",
        "def to_camel_case(text):\n",
        "  word=re.split('[-_]',text)\n",
        "  return word[0] + ''.join(w.capitalize() for w in word[1:]) if word else ''\n",
        "print(to_camel_case(\"the-stealth-warrior\"))\n",
        "print(to_camel_case(\"The_Stealth_Warrior\"))\n",
        "print(to_camel_case(\"The_Stealth-Warrior\"))\n",
        "\n"
      ],
      "metadata": {
        "colab": {
          "base_uri": "https://localhost:8080/"
        },
        "id": "7sPzJWsagWut",
        "outputId": "d30f9a0c-fe55-4163-b223-a71f393ad4d3"
      },
      "execution_count": 8,
      "outputs": [
        {
          "output_type": "stream",
          "name": "stdout",
          "text": [
            "theStealthWarrior\n",
            "TheStealthWarrior\n",
            "TheStealthWarrior\n"
          ]
        }
      ]
    },
    {
      "cell_type": "code",
      "source": [
        "def remove_vowels(s):\n",
        "  return ''.join(char for char in s if char.lower() not in \"aeiou\")\n",
        "print(remove_vowels(\"This website is for losers LOL!\"))"
      ],
      "metadata": {
        "colab": {
          "base_uri": "https://localhost:8080/"
        },
        "id": "Q4zRAyBHiEKb",
        "outputId": "20c8bee5-6017-4285-afcc-2af61db5f2e7"
      },
      "execution_count": 9,
      "outputs": [
        {
          "output_type": "stream",
          "name": "stdout",
          "text": [
            "Ths wbst s fr lsrs LL!\n"
          ]
        }
      ]
    },
    {
      "cell_type": "code",
      "source": [
        "def order(sentence):\n",
        "    return \" \".join(sorted(sentence.split(), key=lambda word: int(\"\".join(filter(str.isdigit, word)))))\n",
        "print(order(\"is2 Thi1s T4est 3a\"))\n",
        "print(order(\"4of Fo1r pe6ople g3ood th5e the2\"))\n",
        "print(order(\"\"))"
      ],
      "metadata": {
        "colab": {
          "base_uri": "https://localhost:8080/"
        },
        "id": "yzXVazwZrD6l",
        "outputId": "896c3ec9-1be6-4053-f319-2154bb4be74e"
      },
      "execution_count": 16,
      "outputs": [
        {
          "output_type": "stream",
          "name": "stdout",
          "text": [
            "Thi1s is2 3a T4est\n",
            "Fo1r the2 g3ood 4of th5e pe6ople\n",
            "\n"
          ]
        }
      ]
    },
    {
      "cell_type": "code",
      "source": [
        "def sort_odd_nums(arr):\n",
        "  odd = sorted([num for num in arr if num % 2 != 0])\n",
        "  odd_index=0\n",
        "  result = []\n",
        "  for num in arr:\n",
        "        if num % 2 != 0:\n",
        "            result.append(odd[odd_index])\n",
        "            odd_index += 1\n",
        "        else:\n",
        "            result.append(num)\n",
        "  return result\n",
        "print(sort_odd_nums([7, 1]))\n",
        "print(sort_odd_nums([5, 8, 6, 3, 4]))\n",
        "print(sort_odd_nums([9, 8, 7, 6, 5, 4, 3, 2, 1, 0]))"
      ],
      "metadata": {
        "colab": {
          "base_uri": "https://localhost:8080/"
        },
        "id": "bn2MiH9CreCA",
        "outputId": "389bec09-a2a6-4ec7-8de7-0a68a089ac84"
      },
      "execution_count": 15,
      "outputs": [
        {
          "output_type": "stream",
          "name": "stdout",
          "text": [
            "[1, 7]\n",
            "[3, 8, 6, 5, 4]\n",
            "[1, 8, 3, 6, 5, 4, 7, 2, 9, 0]\n"
          ]
        }
      ]
    }
  ]
}